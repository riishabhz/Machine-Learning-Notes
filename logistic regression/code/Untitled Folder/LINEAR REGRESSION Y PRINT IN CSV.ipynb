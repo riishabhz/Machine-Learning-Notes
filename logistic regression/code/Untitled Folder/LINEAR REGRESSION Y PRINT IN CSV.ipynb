{
 "cells": [
  {
   "cell_type": "code",
   "execution_count": 4,
   "metadata": {},
   "outputs": [],
   "source": [
    "import numpy as np\n",
    "testdata=np.genfromtxt(\"test.csv\",delimiter=\",\")\n",
    "traindata=np.genfromtxt(\"train.csv\",delimiter=\",\")\n",
    "x=traindata[:,0:10]  #here we converted 1d array into 2d array\n",
    "y=traindata[:,10]\n",
    "traindata.shape\n",
    "from sklearn.linear_model import LinearRegression as lr\n",
    "alg=lr()\n",
    "alg.fit(x,y)\n",
    "y_pred=alg.predict(testdata)\n",
    "np.savetxt(\"predict1.csv\",y_pred,fmt= \"%.5f\")\n"
   ]
  },
  {
   "cell_type": "code",
   "execution_count": null,
   "metadata": {},
   "outputs": [],
   "source": []
  },
  {
   "cell_type": "code",
   "execution_count": null,
   "metadata": {},
   "outputs": [],
   "source": [
    "\n"
   ]
  },
  {
   "cell_type": "code",
   "execution_count": null,
   "metadata": {},
   "outputs": [],
   "source": []
  }
 ],
 "metadata": {
  "kernelspec": {
   "display_name": "Python 3",
   "language": "python",
   "name": "python3"
  },
  "language_info": {
   "codemirror_mode": {
    "name": "ipython",
    "version": 3
   },
   "file_extension": ".py",
   "mimetype": "text/x-python",
   "name": "python",
   "nbconvert_exporter": "python",
   "pygments_lexer": "ipython3",
   "version": "3.7.0"
  }
 },
 "nbformat": 4,
 "nbformat_minor": 2
}

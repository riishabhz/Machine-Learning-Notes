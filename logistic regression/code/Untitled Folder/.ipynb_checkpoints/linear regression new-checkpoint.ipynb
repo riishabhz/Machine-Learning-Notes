{
 "cells": [
  {
   "cell_type": "code",
   "execution_count": 1,
   "metadata": {},
   "outputs": [
    {
     "data": {
      "text/plain": [
       "(100,)"
      ]
     },
     "execution_count": 1,
     "metadata": {},
     "output_type": "execute_result"
    }
   ],
   "source": [
    "import numpy as np\n",
    "data=np.loadtxt(\"data.csv\",delimiter=\",\")\n",
    "x=data[:,0]   #here we converted 1d array into 2d array\n",
    "y=data[:,1]\n",
    "x.shape"
   ]
  },
  {
   "cell_type": "code",
   "execution_count": 2,
   "metadata": {},
   "outputs": [],
   "source": [
    "from sklearn import model_selection\n",
    "x_train,x_test,y_train,y_test=model_selection.train_test_split(x,y,test_size=0.3)"
   ]
  },
  {
   "cell_type": "code",
   "execution_count": 3,
   "metadata": {},
   "outputs": [],
   "source": [
    "def fit(x_train, y_train):\n",
    "    num = (x_train*y_train).mean() - x_train.mean() * y_train.mean()\n",
    "    den = (x_train**2).mean() - x_train.mean()**2\n",
    "    m = num/den\n",
    "    c = y_train.mean() - m * x_train.mean()\n",
    "    return m, c"
   ]
  },
  {
   "cell_type": "code",
   "execution_count": 4,
   "metadata": {},
   "outputs": [],
   "source": [
    "def predict(x, m, c):\n",
    "        return m * x + c"
   ]
  },
  {
   "cell_type": "code",
   "execution_count": 5,
   "metadata": {},
   "outputs": [],
   "source": [
    "def score(y_truth, y_pred):\n",
    "        u = ((y_truth - y_pred)**2).sum()\n",
    "        v = ((y_truth - y_truth.mean())**2).sum()\n",
    "        return 1 - u/v"
   ]
  },
  {
   "cell_type": "code",
   "execution_count": 6,
   "metadata": {},
   "outputs": [],
   "source": [
    "def cost (x, y, m , c):\n",
    "    return ((y - m * x - c)**2).mean()\n",
    "m, c = fit(x_train, y_train)"
   ]
  },
  {
   "cell_type": "code",
   "execution_count": 7,
   "metadata": {},
   "outputs": [
    {
     "name": "stdout",
     "output_type": "stream",
     "text": [
      "Test Score:  0.413562009903534\n",
      "Train Score:  0.6298515300814124\n",
      "M, C  1.4106001595481377 4.74571619072789\n",
      "Cost on training data  106.51734679636684\n"
     ]
    }
   ],
   "source": [
    "y_test_pred = predict(x_test, m, c)\n",
    "print(\"Test Score: \",score(y_test, y_test_pred))\n",
    "#train data\n",
    "y_train_pred = predict(x_train, m, c)\n",
    "print(\"Train Score: \", score(y_train, y_train_pred))\n",
    "print(\"M, C \", m , c)\n",
    "print(\"Cost on training data \", cost(x_train,y_train, m, c ))"
   ]
  },
  {
   "cell_type": "code",
   "execution_count": null,
   "metadata": {},
   "outputs": [],
   "source": []
  }
 ],
 "metadata": {
  "kernelspec": {
   "display_name": "Python 3",
   "language": "python",
   "name": "python3"
  },
  "language_info": {
   "codemirror_mode": {
    "name": "ipython",
    "version": 3
   },
   "file_extension": ".py",
   "mimetype": "text/x-python",
   "name": "python",
   "nbconvert_exporter": "python",
   "pygments_lexer": "ipython3",
   "version": "3.7.0"
  }
 },
 "nbformat": 4,
 "nbformat_minor": 2
}
